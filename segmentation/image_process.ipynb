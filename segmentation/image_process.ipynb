{
 "cells": [
  {
   "cell_type": "code",
   "execution_count": 1,
   "id": "bdaa81f8",
   "metadata": {},
   "outputs": [
    {
     "name": "stdout",
     "output_type": "stream",
     "text": [
      "/home/code/coding/tank/segmentation/dataset/images\n",
      "Done\n"
     ]
    }
   ],
   "source": [
    "import os\n",
    "import json\n",
    "import numpy as np\n",
    "from PIL import Image\n",
    "import labelme\n",
    "import cv2\n",
    "import shutil\n",
    "\n",
    "cwd = os.getcwd()\n",
    "source_path = os.path.join(cwd, 'dataset/sources')\n",
    "image_destination = os.path.join(cwd, 'dataset/images')\n",
    "print(image_destination)\n",
    "json_destination = os.path.join(cwd, 'dataset/json')\n",
    "contents = os.listdir(source_path)\n",
    "\n",
    "for content in contents:\n",
    "    if content.find('.json') != -1:\n",
    "        number = content.split('.')[0]\n",
    "        image = f'{number}.png'\n",
    "        json_source = os.path.join(source_path, content)\n",
    "        json_dir = os.path.join(json_destination, content)\n",
    "        shutil.copy(json_source, json_dir)\n",
    "        image_source = os.path.join(source_path, image)\n",
    "        image_dir = os.path.join(image_destination, image)\n",
    "        shutil.copy(image_source, image_dir)\n",
    "\n",
    "print('Done')"
   ]
  },
  {
   "cell_type": "code",
   "execution_count": 2,
   "id": "ccf23703",
   "metadata": {},
   "outputs": [],
   "source": [
    "import matplotlib.pyplot as plt\n",
    "from skimage.draw import polygon\n",
    "from labelme.utils import shape_to_mask\n",
    "import base64\n",
    "import io"
   ]
  },
  {
   "cell_type": "code",
   "execution_count": 3,
   "id": "1a75edfd",
   "metadata": {},
   "outputs": [],
   "source": [
    "class_mapping = {\n",
    "    'ignore': 0,\n",
    "    'land-green': 1,\n",
    "    'land-rock': 2,\n",
    "    'land-dry': 3,\n",
    "    'land-flat': 4,\n",
    "    'water': 5,\n",
    "    'sky' : 6,\n",
    "    'end_of_world': 7,\n",
    "    'tree': 8,\n",
    "    'cannon': 9,\n",
    "    'tank': 10,\n",
    "    'mountain': 11,\n",
    "    'house': 12,\n",
    "    'rock': 13,\n",
    "    'shadow': 14\n",
    "}\n",
    "\n",
    "# i = 0\n",
    "\n",
    "for json_file in os.listdir(json_destination):\n",
    "    json_path = os.path.join(json_destination, json_file)\n",
    "    with open(json_path, 'r') as f:\n",
    "        data = json.load(f)\n",
    "\n",
    "    number = json_file.split('.')[0]\n",
    "    image_name = f'{number}.png'\n",
    "    image_path = os.path.join(image_destination, image_name)\n",
    "    image = cv2.imread(image_path)\n",
    "    image = cv2.cvtColor(image, cv2.COLOR_BGR2RGB)\n",
    "    height, width = image.shape[:2]\n",
    "    image = cv2.resize(image, (width, height))\n",
    "\n",
    "    # 원본 크기의 마스크 초기화\n",
    "    combined_mask = np.zeros((height, width), dtype=np.uint8)\n",
    "\n",
    "    # shapes 처리\n",
    "    for shape in data[\"shapes\"]:\n",
    "        label = shape[\"label\"]\n",
    "        class_id = class_mapping.get(label, 255)\n",
    "\n",
    "        # Base64로 저장된 mask 데이터 디코딩\n",
    "        if \"mask\" in shape:\n",
    "            mask_data = shape[\"mask\"]\n",
    "            try:\n",
    "                # Base64 디코딩\n",
    "                mask_bytes = base64.b64decode(mask_data)\n",
    "                \n",
    "                # PNG 이미지로 로드\n",
    "                mask_image = Image.open(io.BytesIO(mask_bytes))\n",
    "                mask = np.array(mask_image, dtype=np.uint8)\n",
    "\n",
    "                # 마스크 크기 확인\n",
    "                # print(f\"Decoded mask shape: {mask.shape}\")\n",
    "\n",
    "                # 단일 채널로 변환 (필요 시)\n",
    "                if len(mask.shape) == 3:\n",
    "                    mask = mask[:, :, 0]\n",
    "\n",
    "                # 마스크가 바이너리(0 또는 1)인지 변환\n",
    "                mask = (mask > 0).astype(np.uint8)\n",
    "\n",
    "                # points에서 사각형 영역 계산\n",
    "                points = shape[\"points\"]\n",
    "                x1, y1 = int(points[0][0]), int(points[0][1])\n",
    "                x2, y2 = int(points[1][0]), int(points[1][1])\n",
    "                mask_height, mask_width = mask.shape\n",
    "                # print(f\"Points: ({x1}, {y1}), ({x2}, {y2})\")\n",
    "                # print(f\"Expected mask size: ({y2-y1}, {x2-x1})\")\n",
    "\n",
    "                # 마스크 크기와 사각형 크기 일치 확인\n",
    "                expected_height = y2 - y1 + 1\n",
    "                expected_width = x2 - x1 + 1\n",
    "                if mask.shape != (expected_height, expected_width):\n",
    "                    print(f\"Mask size mismatch: expected ({expected_height}, {expected_width}), got {mask.shape}\")\n",
    "                    mask = cv2.resize(mask, (expected_width, expected_height), interpolation=cv2.INTER_NEAREST)\n",
    "\n",
    "                # 원본 마스크에 할당\n",
    "                region = combined_mask[y1:y2+1, x1:x2+1]\n",
    "                region[mask == 1] = class_id\n",
    "                combined_mask[y1:y2+1, x1:x2+1] = region\n",
    "\n",
    "\n",
    "            except Exception as e:\n",
    "                print(f\"Error decoding mask for {label}: {e}\")\n",
    "                continue\n",
    "        else:\n",
    "            print(f\"No mask data for {label}, skipping\")\n",
    "\n",
    "    mask_path = os.path.join(cwd, 'dataset/masks', json_file.replace('.json','.png'))\n",
    "    Image.fromarray(combined_mask.astype(np.uint8)).save(mask_path)\n",
    "    # print(f\"Mask saved: {mask_path}\")\n",
    "\n",
    "    # i += 1\n",
    "\n",
    "    # if i // 200 == 0:\n",
    "    #     # 검증 및 시각화\n",
    "    #     print(\"Unique class IDs in combined mask:\", np.unique(combined_mask))\n",
    "    #     plt.figure(figsize=(10, 5))\n",
    "    #     plt.subplot(121)\n",
    "    #     plt.imshow(image)\n",
    "    #     plt.title(\"Original Image\")\n",
    "    #     plt.subplot(122)\n",
    "    #     plt.imshow(combined_mask, cmap=\"tab20\")\n",
    "    #     plt.title(\"Segmentation Mask\")\n",
    "    #     plt.show()"
   ]
  },
  {
   "cell_type": "code",
   "execution_count": 4,
   "id": "1c716012",
   "metadata": {},
   "outputs": [
    {
     "name": "stderr",
     "output_type": "stream",
     "text": [
      "/home/code/miniconda3/envs/torch/lib/python3.11/site-packages/tqdm/auto.py:21: TqdmWarning: IProgress not found. Please update jupyter and ipywidgets. See https://ipywidgets.readthedocs.io/en/stable/user_install.html\n",
      "  from .autonotebook import tqdm as notebook_tqdm\n"
     ]
    }
   ],
   "source": [
    "import torch\n",
    "from torch.utils.data import Dataset\n",
    "import albumentations as A\n",
    "\n",
    "class SegDataset(Dataset):\n",
    "    def __init__(self, image_dir, mask_dir, transform=None):\n",
    "        self.image_dir = image_dir\n",
    "        self.mask_dir = mask_dir\n",
    "        self.transform = transform\n",
    "        self.images = sorted(os.listdir(image_dir))\n",
    "        self.masks = sorted(os.listdir(mask_dir))\n",
    "\n",
    "    def __len__(self):\n",
    "        return len(self.images)\n",
    "\n",
    "    def __getitem__(self, idx):\n",
    "        img_path = os.path.join(self.image_dir, self.images[idx])\n",
    "        mask_path = os.path.join(self.mask_dir, self.masks[idx])\n",
    "        image = np.array(Image.open(img_path).convert(\"RGB\"))\n",
    "        mask = np.array(Image.open(mask_path), dtype=np.int64)\n",
    "\n",
    "        if self.transform:\n",
    "            augmented = self.transform(image=image, mask=mask)\n",
    "            image, mask = augmented[\"image\"], augmented[\"mask\"]\n",
    "\n",
    "        return torch.tensor(image).permute(2, 0, 1).float() / 255.0, torch.tensor(mask, dtype=torch.long)\n",
    "\n",
    "# 데이터 증강\n",
    "transform = A.Compose([\n",
    "    A.Resize(512, 1024),  # SegFormer 입력 크기 조정\n",
    "    A.HorizontalFlip(p=0.5),\n",
    "    A.RandomBrightnessContrast(p=0.2),\n",
    "    A.Rotate(limit=30, p=0.3),\n",
    "    A.Normalize(mean=[0.485, 0.456, 0.406], std=[0.229, 0.224, 0.225]),\n",
    "])\n",
    "\n",
    "# 데이터셋 및 데이터로더\n",
    "image_dir = \"dataset/images\"\n",
    "mask_dir = \"dataset/masks\"\n",
    "dataset = SegDataset(image_dir, mask_dir, transform)\n",
    "dataloader = torch.utils.data.DataLoader(dataset, batch_size=4, shuffle=True, num_workers=4)"
   ]
  },
  {
   "cell_type": "code",
   "execution_count": 5,
   "id": "9c8beb64",
   "metadata": {},
   "outputs": [
    {
     "name": "stderr",
     "output_type": "stream",
     "text": [
      "/home/code/miniconda3/envs/torch/lib/python3.11/site-packages/transformers/models/segformer/feature_extraction_segformer.py:28: FutureWarning: The class SegformerFeatureExtractor is deprecated and will be removed in version 5 of Transformers. Please use SegformerImageProcessor instead.\n",
      "  warnings.warn(\n",
      "/home/code/miniconda3/envs/torch/lib/python3.11/site-packages/transformers/utils/deprecation.py:172: UserWarning: The following named arguments are not valid for `SegformerFeatureExtractor.__init__` and were ignored: 'feature_extractor_type'\n",
      "  return func(*args, **kwargs)\n",
      "Some weights of SegformerForSemanticSegmentation were not initialized from the model checkpoint at nvidia/segformer-b0-finetuned-cityscapes-512-1024 and are newly initialized because the shapes did not match:\n",
      "- decode_head.classifier.weight: found shape torch.Size([19, 256, 1, 1]) in the checkpoint and torch.Size([15, 256, 1, 1]) in the model instantiated\n",
      "- decode_head.classifier.bias: found shape torch.Size([19]) in the checkpoint and torch.Size([15]) in the model instantiated\n",
      "You should probably TRAIN this model on a down-stream task to be able to use it for predictions and inference.\n"
     ]
    }
   ],
   "source": [
    "from transformers import SegformerFeatureExtractor, SegformerForSemanticSegmentation\n",
    "\n",
    "# 모델 로드\n",
    "feature_extractor = SegformerFeatureExtractor.from_pretrained(\"nvidia/segformer-b0-finetuned-cityscapes-512-1024\")\n",
    "model = SegformerForSemanticSegmentation.from_pretrained(\n",
    "    \"nvidia/segformer-b0-finetuned-cityscapes-512-1024\",\n",
    "    num_labels=len(class_mapping),  # 6 (background, river, hill, tree, land-green, ignore)\n",
    "    ignore_mismatched_sizes=True    # 클래스 수 불일치 무시\n",
    ").to(\"cuda\")\n"
   ]
  },
  {
   "cell_type": "code",
   "execution_count": 6,
   "id": "3cbef700",
   "metadata": {},
   "outputs": [],
   "source": [
    "import torch.nn as nn\n",
    "\n",
    "criterion = nn.CrossEntropyLoss(ignore_index=0)"
   ]
  },
  {
   "cell_type": "code",
   "execution_count": 7,
   "id": "0ab55a2d",
   "metadata": {},
   "outputs": [],
   "source": [
    "import torch.optim as optim\n",
    "\n",
    "optimizer = optim.AdamW(model.parameters(), lr=1e-5, weight_decay=1e-2)"
   ]
  },
  {
   "cell_type": "code",
   "execution_count": 8,
   "id": "8ae57edd",
   "metadata": {},
   "outputs": [],
   "source": [
    "from torch.optim.lr_scheduler import CosineAnnealingLR\n",
    "\n",
    "scheduler = CosineAnnealingLR(optimizer, T_max=20, eta_min=1e-6)"
   ]
  },
  {
   "cell_type": "code",
   "execution_count": 14,
   "id": "6049852e",
   "metadata": {},
   "outputs": [
    {
     "name": "stderr",
     "output_type": "stream",
     "text": [
      "100%|██████████| 36/36 [00:03<00:00, 10.51it/s]\n",
      "  5%|▌         | 1/20 [00:03<01:05,  3.43s/it]"
     ]
    },
    {
     "name": "stdout",
     "output_type": "stream",
     "text": [
      "Epoch 1/20, Loss: 1.9573, mIoU: 0.1106\n"
     ]
    },
    {
     "name": "stderr",
     "output_type": "stream",
     "text": [
      "100%|██████████| 36/36 [00:03<00:00, 10.86it/s]\n",
      " 10%|█         | 2/20 [00:06<01:00,  3.36s/it]"
     ]
    },
    {
     "name": "stdout",
     "output_type": "stream",
     "text": [
      "Epoch 2/20, Loss: 1.9479, mIoU: 0.1127\n"
     ]
    },
    {
     "name": "stderr",
     "output_type": "stream",
     "text": [
      "100%|██████████| 36/36 [00:06<00:00,  5.75it/s]\n",
      " 15%|█▌        | 3/20 [00:13<01:19,  4.69s/it]"
     ]
    },
    {
     "name": "stdout",
     "output_type": "stream",
     "text": [
      "Epoch 3/20, Loss: 1.9609, mIoU: 0.1084\n"
     ]
    },
    {
     "name": "stderr",
     "output_type": "stream",
     "text": [
      "100%|██████████| 36/36 [00:03<00:00, 10.84it/s]\n",
      " 20%|██        | 4/20 [00:16<01:06,  4.15s/it]"
     ]
    },
    {
     "name": "stdout",
     "output_type": "stream",
     "text": [
      "Epoch 4/20, Loss: 1.9470, mIoU: 0.1126\n"
     ]
    },
    {
     "name": "stderr",
     "output_type": "stream",
     "text": [
      "100%|██████████| 36/36 [00:03<00:00, 10.76it/s]\n",
      " 25%|██▌       | 5/20 [00:19<00:57,  3.86s/it]"
     ]
    },
    {
     "name": "stdout",
     "output_type": "stream",
     "text": [
      "Epoch 5/20, Loss: 1.9374, mIoU: 0.1129\n"
     ]
    },
    {
     "name": "stderr",
     "output_type": "stream",
     "text": [
      "100%|██████████| 36/36 [00:03<00:00, 10.77it/s]\n",
      " 30%|███       | 6/20 [00:23<00:51,  3.69s/it]"
     ]
    },
    {
     "name": "stdout",
     "output_type": "stream",
     "text": [
      "Epoch 6/20, Loss: 1.9406, mIoU: 0.1122\n"
     ]
    },
    {
     "name": "stderr",
     "output_type": "stream",
     "text": [
      "100%|██████████| 36/36 [00:03<00:00, 10.70it/s]\n",
      " 35%|███▌      | 7/20 [00:26<00:46,  3.58s/it]"
     ]
    },
    {
     "name": "stdout",
     "output_type": "stream",
     "text": [
      "Epoch 7/20, Loss: 1.9048, mIoU: 0.1143\n"
     ]
    },
    {
     "name": "stderr",
     "output_type": "stream",
     "text": [
      "100%|██████████| 36/36 [00:03<00:00, 10.81it/s]\n",
      " 40%|████      | 8/20 [00:29<00:42,  3.50s/it]"
     ]
    },
    {
     "name": "stdout",
     "output_type": "stream",
     "text": [
      "Epoch 8/20, Loss: 1.8994, mIoU: 0.1207\n"
     ]
    },
    {
     "name": "stderr",
     "output_type": "stream",
     "text": [
      "100%|██████████| 36/36 [00:03<00:00, 10.76it/s]\n",
      " 45%|████▌     | 9/20 [00:33<00:38,  3.46s/it]"
     ]
    },
    {
     "name": "stdout",
     "output_type": "stream",
     "text": [
      "Epoch 9/20, Loss: 1.8695, mIoU: 0.1196\n"
     ]
    },
    {
     "name": "stderr",
     "output_type": "stream",
     "text": [
      "100%|██████████| 36/36 [00:03<00:00, 10.77it/s]\n",
      " 50%|█████     | 10/20 [00:36<00:34,  3.42s/it]"
     ]
    },
    {
     "name": "stdout",
     "output_type": "stream",
     "text": [
      "Epoch 10/20, Loss: 1.8911, mIoU: 0.1164\n"
     ]
    },
    {
     "name": "stderr",
     "output_type": "stream",
     "text": [
      "100%|██████████| 36/36 [00:03<00:00, 10.81it/s]\n",
      " 55%|█████▌    | 11/20 [00:39<00:30,  3.40s/it]"
     ]
    },
    {
     "name": "stdout",
     "output_type": "stream",
     "text": [
      "Epoch 11/20, Loss: 1.8532, mIoU: 0.1202\n"
     ]
    },
    {
     "name": "stderr",
     "output_type": "stream",
     "text": [
      "100%|██████████| 36/36 [00:06<00:00,  5.75it/s]\n",
      " 60%|██████    | 12/20 [00:46<00:34,  4.27s/it]"
     ]
    },
    {
     "name": "stdout",
     "output_type": "stream",
     "text": [
      "Epoch 12/20, Loss: 1.8214, mIoU: 0.1243\n"
     ]
    },
    {
     "name": "stderr",
     "output_type": "stream",
     "text": [
      "100%|██████████| 36/36 [00:03<00:00, 10.85it/s]\n",
      " 65%|██████▌   | 13/20 [00:49<00:27,  3.98s/it]"
     ]
    },
    {
     "name": "stdout",
     "output_type": "stream",
     "text": [
      "Epoch 13/20, Loss: 1.8148, mIoU: 0.1248\n"
     ]
    },
    {
     "name": "stderr",
     "output_type": "stream",
     "text": [
      "100%|██████████| 36/36 [00:03<00:00, 10.83it/s]\n",
      " 70%|███████   | 14/20 [00:52<00:22,  3.78s/it]"
     ]
    },
    {
     "name": "stdout",
     "output_type": "stream",
     "text": [
      "Epoch 14/20, Loss: 1.8280, mIoU: 0.1170\n"
     ]
    },
    {
     "name": "stderr",
     "output_type": "stream",
     "text": [
      "100%|██████████| 36/36 [00:03<00:00, 10.89it/s]\n",
      " 75%|███████▌  | 15/20 [00:56<00:18,  3.64s/it]"
     ]
    },
    {
     "name": "stdout",
     "output_type": "stream",
     "text": [
      "Epoch 15/20, Loss: 1.7557, mIoU: 0.1385\n"
     ]
    },
    {
     "name": "stderr",
     "output_type": "stream",
     "text": [
      "100%|██████████| 36/36 [00:03<00:00, 10.90it/s]\n",
      " 80%|████████  | 16/20 [00:59<00:14,  3.54s/it]"
     ]
    },
    {
     "name": "stdout",
     "output_type": "stream",
     "text": [
      "Epoch 16/20, Loss: 1.7632, mIoU: 0.1366\n"
     ]
    },
    {
     "name": "stderr",
     "output_type": "stream",
     "text": [
      "100%|██████████| 36/36 [00:03<00:00, 10.86it/s]\n",
      " 85%|████████▌ | 17/20 [01:02<00:10,  3.47s/it]"
     ]
    },
    {
     "name": "stdout",
     "output_type": "stream",
     "text": [
      "Epoch 17/20, Loss: 1.7505, mIoU: 0.1242\n"
     ]
    },
    {
     "name": "stderr",
     "output_type": "stream",
     "text": [
      "100%|██████████| 36/36 [00:03<00:00, 10.71it/s]\n",
      " 90%|█████████ | 18/20 [01:05<00:06,  3.44s/it]"
     ]
    },
    {
     "name": "stdout",
     "output_type": "stream",
     "text": [
      "Epoch 18/20, Loss: 1.6879, mIoU: 0.1440\n"
     ]
    },
    {
     "name": "stderr",
     "output_type": "stream",
     "text": [
      "100%|██████████| 36/36 [00:03<00:00, 10.83it/s]\n",
      " 95%|█████████▌| 19/20 [01:09<00:03,  3.41s/it]"
     ]
    },
    {
     "name": "stdout",
     "output_type": "stream",
     "text": [
      "Epoch 19/20, Loss: 1.6267, mIoU: 0.1635\n"
     ]
    },
    {
     "name": "stderr",
     "output_type": "stream",
     "text": [
      "100%|██████████| 36/36 [00:03<00:00, 10.85it/s]\n",
      "100%|██████████| 20/20 [01:12<00:00,  3.63s/it]"
     ]
    },
    {
     "name": "stdout",
     "output_type": "stream",
     "text": [
      "Epoch 20/20, Loss: 1.6557, mIoU: 0.1503\n"
     ]
    },
    {
     "name": "stderr",
     "output_type": "stream",
     "text": [
      "\n"
     ]
    }
   ],
   "source": [
    "import torch\n",
    "from torchmetrics import JaccardIndex\n",
    "import torch.nn.functional as F\n",
    "from tqdm import tqdm\n",
    "os.environ['CUDA_LAUNCH_BLOCKING'] = '1'\n",
    "\n",
    "# 학습 설정\n",
    "num_epochs = 20\n",
    "device = \"cuda\"\n",
    "\n",
    "# mIoU 계산용 메트릭\n",
    "jaccard = JaccardIndex(num_classes=len(class_mapping), task=\"multiclass\", ignore_index=0).to(device)\n",
    "\n",
    "# 학습 루프\n",
    "model.train()\n",
    "for epoch in tqdm(range(num_epochs)):\n",
    "    epoch_loss = 0.0\n",
    "    jaccard.reset()\n",
    "\n",
    "    for images, masks in tqdm(dataloader):\n",
    "        images, masks = images.to(device), masks.to(device)\n",
    "\n",
    "        # 모델 예측\n",
    "        outputs = model(images).logits  # [batch_size, num_classes, H, W]\n",
    "        outputs = F.interpolate(outputs, size=(512, 1024), mode='bicubic', align_corners=False)\n",
    "        loss = criterion(outputs, masks)\n",
    "\n",
    "        # 역전파\n",
    "        optimizer.zero_grad()\n",
    "        loss.backward()\n",
    "        optimizer.step()\n",
    "\n",
    "        # 손실 및 mIoU 계산\n",
    "        epoch_loss += loss.item()\n",
    "        preds = torch.argmax(outputs, dim=1)\n",
    "        jaccard.update(preds, masks)\n",
    "\n",
    "    # 스케줄러 업데이트\n",
    "    scheduler.step()\n",
    "\n",
    "    # 에포크 결과 출력\n",
    "    avg_loss = epoch_loss / len(dataloader)\n",
    "    miou = jaccard.compute().item()\n",
    "    print(f\"Epoch {epoch+1}/{num_epochs}, Loss: {avg_loss:.4f}, mIoU: {miou:.4f}\")\n",
    "\n",
    "# 모델 저장\n",
    "torch.save(model.state_dict(), \"segformer_model.pth\")"
   ]
  },
  {
   "cell_type": "code",
   "execution_count": 15,
   "id": "bc285946",
   "metadata": {},
   "outputs": [],
   "source": [
    "from torch.utils.data import Subset\n",
    "import numpy as np\n",
    "\n",
    "# 데이터셋 분할 (80% 훈련, 20% 검증)\n",
    "indices = np.arange(len(dataset))\n",
    "np.random.shuffle(indices)\n",
    "train_size = int(0.8 * len(dataset))\n",
    "train_indices, val_indices = indices[:train_size], indices[train_size:]\n",
    "\n",
    "train_dataset = Subset(dataset, train_indices)\n",
    "val_dataset = Subset(dataset, val_indices)\n",
    "\n",
    "train_loader = torch.utils.data.DataLoader(train_dataset, batch_size=8, shuffle=True, num_workers=4)\n",
    "val_loader = torch.utils.data.DataLoader(val_dataset, batch_size=8, shuffle=False, num_workers=4)"
   ]
  },
  {
   "cell_type": "code",
   "execution_count": 16,
   "id": "ca8ceda5",
   "metadata": {},
   "outputs": [
    {
     "name": "stdout",
     "output_type": "stream",
     "text": [
      "Validation mIoU: 0.2413\n"
     ]
    },
    {
     "name": "stderr",
     "output_type": "stream",
     "text": [
      "Clipping input data to the valid range for imshow with RGB data ([0..1] for floats or [0..255] for integers). Got range [-0.008305506..0.0019693463].\n"
     ]
    },
    {
     "data": {
      "image/png": "[encoded data removed]",
      "text/plain": [
       "<Figure size 1500x500 with 3 Axes>"
      ]
     },
     "metadata": {},
     "output_type": "display_data"
    }
   ],
   "source": [
    "model.eval()\n",
    "jaccard.reset()\n",
    "\n",
    "with torch.no_grad():\n",
    "    for images, masks in val_loader:\n",
    "        images, masks = images.to(device), masks.to(device)\n",
    "        outputs = model(images).logits\n",
    "        outputs = F.interpolate(outputs, size=(512, 1024), mode=\"bicubic\", align_corners=False)\n",
    "        preds = torch.argmax(outputs, dim=1)\n",
    "        jaccard.update(preds, masks)\n",
    "\n",
    "print(f\"Validation mIoU: {jaccard.compute().item():.4f}\")\n",
    "\n",
    "# 시각화\n",
    "images, masks = next(iter(val_loader))\n",
    "images, masks = images.to(device), masks.to(device)\n",
    "with torch.no_grad():\n",
    "    outputs = model(images).logits\n",
    "    preds = torch.argmax(outputs, dim=1)\n",
    "\n",
    "# 첫 번째 샘플 시각화\n",
    "plt.figure(figsize=(15, 5))\n",
    "plt.subplot(131)\n",
    "plt.imshow(images[0].permute(1, 2, 0).cpu().numpy())\n",
    "plt.title(\"Input Image\")\n",
    "plt.subplot(132)\n",
    "plt.imshow(masks[0].cpu().numpy(), cmap=\"jet\")\n",
    "plt.title(\"Ground Truth\")\n",
    "plt.subplot(133)\n",
    "plt.imshow(preds[0].cpu().numpy(), cmap=\"jet\")\n",
    "plt.title(\"Prediction\")\n",
    "plt.show()"
   ]
  },
  {
   "cell_type": "code",
   "execution_count": null,
   "id": "51e2d50c",
   "metadata": {},
   "outputs": [],
   "source": []
  }
 ],
 "metadata": {
  "kernelspec": {
   "display_name": "torch",
   "language": "python",
   "name": "python3"
  },
  "language_info": {
   "codemirror_mode": {
    "name": "ipython",
    "version": 3
   },
   "file_extension": ".py",
   "mimetype": "text/x-python",
   "name": "python",
   "nbconvert_exporter": "python",
   "pygments_lexer": "ipython3",
   "version": "3.11.11"
  }
 },
 "nbformat": 4,
 "nbformat_minor": 5
}
